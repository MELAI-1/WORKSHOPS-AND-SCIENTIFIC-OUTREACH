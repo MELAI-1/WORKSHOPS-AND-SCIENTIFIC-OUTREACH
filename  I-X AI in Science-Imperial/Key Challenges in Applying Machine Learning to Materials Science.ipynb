{
  "nbformat": 4,
  "nbformat_minor": 0,
  "metadata": {
    "colab": {
      "provenance": [],
      "authorship_tag": "ABX9TyOpbhZ2Z9R5l0+oT9ikMe8K",
      "include_colab_link": true
    },
    "kernelspec": {
      "name": "python3",
      "display_name": "Python 3"
    },
    "language_info": {
      "name": "python"
    }
  },
  "cells": [
    {
      "cell_type": "markdown",
      "metadata": {
        "id": "view-in-github",
        "colab_type": "text"
      },
      "source": [
        "<a href=\"https://colab.research.google.com/github/MELAI-1/WORKSHOPS-AND-SCIENTIFIC-OUTREACH/blob/main/%20I-X%20AI%20in%20Science-Imperial/Key%20Challenges%20in%20Applying%20Machine%20Learning%20to%20Materials%20Science.ipynb\" target=\"_parent\"><img src=\"https://colab.research.google.com/assets/colab-badge.svg\" alt=\"Open In Colab\"/></a>"
      ]
    },
    {
      "cell_type": "code",
      "execution_count": null,
      "metadata": {
        "id": "Nw9zEvRxdaPW"
      },
      "outputs": [],
      "source": []
    },
    {
      "cell_type": "markdown",
      "source": [
        "The purpose of this tutorial is to get you familiar with core challenges that arise when applying machine to materials science. The assessment is in a different notebook given in session 2 and will build on the problems/examples highlighted here"
      ],
      "metadata": {
        "id": "9SCAQKOGds4u"
      }
    },
    {
      "cell_type": "markdown",
      "source": [
        "# Key Challenges in Applying Machine Learning to Materials Science\n",
        "\n",
        "There are three main challenges when applying machine learning models to materials science problems:\n",
        "\n",
        "\n",
        "\n",
        "1.  Small, sparse and biased datasets\n",
        "2.  Complex, high-dimensional descriptors\n",
        "3.  Need for physically interpretable models\n",
        "\n",
        "### Small, sparse and biased datasets\n",
        "\n",
        "Experimental and simulation data in materials science are often limited in size, noisy, and collected under inconsistent conditions. Data may be biased toward well-studied systems, leaving large regions of materials space underexplored. These limitations make it difficult to train robust and generalisable ML models. Careful preprocessing, feature selection, and validation are essential to avoid overfitting and misleading conclusions.\n",
        "\n",
        "### Complex, high-dimensional descriptors\n",
        "\n",
        "Materials often exhibit behaviour across multiple scales -- from atomic to macroscopic -- making it difficult to represent them with simple features. Descriptors need to capture structural, electronic, and thermodynamic information, which are often high-dimensional and interdependent. Constructing meaningful representations that reflect the underlying physics is a critical step in building effective models.\n",
        "\n",
        "### Importance of physically interpretable models\n",
        "\n",
        "In materials science, it is not enough for a model to be accurate -- it must also make sense physically. Researchers need to understand why a model makes a certain prediction, particularly when it suggests new materials for synthesis or application. Incorporating domain knowledge, using interpretable models, and applying techniques like feature importance analysis or SHAP values can help build trust and extract insight from ML predictions.\n",
        "\n",
        "Finally, uncertainty quantification is especially important in this context. Given the high cost of experimental validation, models should not only make predictions but also express confidence in them -- enabling better decision-making and resource allocation.\n",
        "\n",
        "This notebook will guide you through several examples of how to manage materials data using machine learning models, including how featurising materials properties work, and how to apply clustering techniques to different datasets in order to build a predictive model."
      ],
      "metadata": {
        "id": "nFJ-imnIdvh_"
      }
    },
    {
      "cell_type": "markdown",
      "source": [
        " ## Example 1: Predicting bulk modulus with simple features\n",
        "Her you will look at supervised learning by working with a dataset containing the bulk modulus of over 10,000 inorganic crystals. This is a regression problem, where our goal is to predict a continuous property rather than classify materials into discrete categories.\n",
        "\n",
        "## What is the Bulk Modulus?\n",
        "\n",
        "Imagine squeezing a material--how much does it resist compression? The [bulk modulus](https://en.wikipedia.org/wiki/Bulk_modulus) (B) quantifies this resistance and is a key preoperty in materials science. It is defined as:\n",
        "\n",
        "$\n",
        "B = -V \\frac{\\partial P}{\\partial V} = V \\frac{\\partial^2 E}{\\partial V^2}\n",
        "$\n",
        "\n",
        "Where $B$ is GPa, $E$ is the energy of the material, $P$ is the pressure, and $V$ is the volume. For example, diamond has has a measured bulk modulus of $B$ = 443 GPa at T = 4 K. The bulk modulus is a useful quantity in models of materials bonding, thermodynamics, and mechanics.\n",
        "\n",
        "## How will AI help us?\n",
        "\n",
        "Rather than manually calculating bulk modulus values, we can train a machine learning model to predict them based on the material properties. We will use the Python package `matminer` (https://matminer.readthedocs.io) to access the materials dataset and featurise the data in a form that is suitable for statistical analysis and building machine learning models. We will use the computational materials science package `pymatgen` (https://pymatgen.org) that powers the [Materials Project](https://materialsproject.org)."
      ],
      "metadata": {
        "id": "lKfTL5g5d0MR"
      }
    },
    {
      "cell_type": "code",
      "source": [
        "# Installation of libraries\n",
        "!pip install optimade --quiet\n",
        "!pip install matminer --quiet\n",
        "!pip install elementembeddings --quiet\n",
        "!pip install pymatviz --quiet\n",
        "!pip install plotly --quiet"
      ],
      "metadata": {
        "id": "jUSUZD4Gd4Bx"
      },
      "execution_count": null,
      "outputs": []
    },
    {
      "cell_type": "code",
      "source": [
        "# Basic utilities\n",
        "import pprint  # Pretty print data structures\n",
        "import warnings  # Warning control\n",
        "import numpy as np # Numerical operations\n",
        "#from numpy import ComplexWarning  # Warning for complex numbers\n",
        "\n",
        "# Data handling\n",
        "import pandas as pd  # Data manipulation with DataFrames\n",
        "from monty.serialization import loadfn  # Load serialised data\n",
        "\n",
        "# Materials science\n",
        "from pymatgen.core import Structure  # Materials analysis for crystal structures\n",
        "import matminer  # Materials informatics\n",
        "from matminer.datasets.dataset_retrieval import load_dataset  # Load materials datasets\n",
        "\n",
        "# Visualisation\n",
        "import matplotlib.pyplot as plt  # Plotting\n",
        "import seaborn as sns  # Statistical visualisation\n",
        "plt.style.use('ggplot')  # Set Matplotlib style to 'ggplot'\n",
        "\n",
        "# Warning management\n",
        "#warnings.filterwarnings(\"ignore\", category=ComplexWarning)  # Ignore ComplexWarning\n",
        "\n",
        "# Performance adjustments\n",
        "teaching_mode = True  # To make models run faster"
      ],
      "metadata": {
        "id": "1gwORg8Kd8Jy"
      },
      "execution_count": null,
      "outputs": []
    },
    {
      "cell_type": "markdown",
      "source": [
        "<details>\n",
        "<summary>Colab error solution</summary>\n",
        "If running the import module cell fails with an \"AttributeError\", click `Runtime` -> `Restart Session` and then simply rerun the cell.\n",
        "</details>"
      ],
      "metadata": {
        "id": "KEkIFtArd-6U"
      }
    },
    {
      "cell_type": "markdown",
      "source": [
        "## Bulk moduli dataset\n",
        "\n",
        "From `matminer`, we can check what datasets are available using the `datasets.get_available_datasets()` method."
      ],
      "metadata": {
        "id": "NDICOlcAeBae"
      }
    },
    {
      "cell_type": "code",
      "source": [
        "# Print the available datasets\n",
        "matminer.datasets.get_available_datasets(print_format='low')"
      ],
      "metadata": {
        "id": "V4laMyvzd__x"
      },
      "execution_count": null,
      "outputs": []
    },
    {
      "cell_type": "markdown",
      "source": [
        "We can use the get_all_dataset_info function from the matminer.datasets.dataset_retrieval module to output a detailed description of a matminer dataset. Let's check the information for the matbench_log_kvrh dataset.\n",
        "\n",
        "Here \"K\" relates to the bulk modulus (which we called  𝐵 ), and and \"VRH\" relates to the Voigt-Reuss-Hill equation of state, which is one approach to define a value for each material."
      ],
      "metadata": {
        "id": "kD2NKu46eKVH"
      }
    },
    {
      "cell_type": "code",
      "source": [
        "print(matminer.datasets.dataset_retrieval.get_all_dataset_info('matbench_log_kvrh'))"
      ],
      "metadata": {
        "id": "fV0fz-j8eL9A"
      },
      "execution_count": null,
      "outputs": []
    },
    {
      "cell_type": "markdown",
      "source": [
        "We can then load a dataset using the `load_dataset` method."
      ],
      "metadata": {
        "id": "IhjZCZduePNd"
      }
    },
    {
      "cell_type": "code",
      "source": [
        "# Use matminer to download the dataset\n",
        "df = load_dataset('matbench_log_kvrh')\n",
        "print(f'The full dataset contains {df.shape[0]} entries. \\n')\n",
        "\n",
        "if teaching_mode:\n",
        "  # Store the original DataFrame as a copy\n",
        "  full_dataset_df = df.copy()\n",
        "  # Create a subset of the original DataFrame for demonstration purposes\n",
        "  df = df.sample(n=1500, random_state=41)\n",
        "  print(f'For teaching purposes we will only work with {df.shape[0]} entries from the DataFrame to make the model training and testing faster. \\n')\n",
        "\n",
        "print('The DataFrame is shown below:')\n",
        "df.head(10)"
      ],
      "metadata": {
        "id": "0Iz0BjYweQVV"
      },
      "execution_count": null,
      "outputs": []
    },
    {
      "cell_type": "markdown",
      "source": [
        "### Visualise the target variable"
      ],
      "metadata": {
        "id": "_rTtn9-heVYu"
      }
    },
    {
      "cell_type": "markdown",
      "source": [
        "We can use `df.describe()` to produce summary statistics of the numerical columns. The importance of this is to check whether the data for our target variable, `log10(K_VRH)`, is reasonable. Negative values for the bulk modulus are considered unphysical and forbidden by crystal thermodynamics. You can think about why from the definition.\n",
        "\n",
        "As we are working with `log10` of the bulk modulus, it should not be possible for there to be negative values in our target variable column as the logarithm of a negative number is undefined. This also gives us a quick check for the input data."
      ],
      "metadata": {
        "id": "LGJxlxZ-eWIq"
      }
    },
    {
      "cell_type": "code",
      "source": [
        "df.describe()"
      ],
      "metadata": {
        "id": "6lQ044D7eYsj"
      },
      "execution_count": null,
      "outputs": []
    },
    {
      "cell_type": "markdown",
      "source": [
        "From the summary statistics, the minimum value for `log10(K_VRH)` is zero, so it appears that there are no glaring issues with the target variable.  \n",
        "\n",
        "For a better understanding, let's make a histogram to visualise the distribution. This is best practice when you encounter any new dataset."
      ],
      "metadata": {
        "id": "f5-SmDiUea6j"
      }
    },
    {
      "cell_type": "code",
      "source": [
        "# Plot a histogram\n",
        "fig, ax = plt.subplots(figsize=(5,3))\n",
        "ax.hist(df['log10(K_VRH)'])\n",
        "ax.set_xlabel(r'$log_{10}K_{VRH}$ [$log_{10}GPa$]')\n",
        "ax.set_ylabel('Counts')\n",
        "plt.show()"
      ],
      "metadata": {
        "id": "igRy7Uo3edRX"
      },
      "execution_count": null,
      "outputs": []
    },
    {
      "cell_type": "markdown",
      "source": [
        "## Features of materials\n",
        "As you may notice from the dataset, we only have one input feature, the crystal structure. This is not a numerical feature that we can use for a regression model. For supervised machine learning, we must represent each material by a vector that can be used as an input to the model, e.g.\n",
        "\n",
        "$$f(\\textrm{material}) \\rightarrow [1.1,0.8,3.5,0.01]$$\n",
        "\n",
        "would be a four-dimensional representation.\n",
        "For now we will use some pre-selected features from `matminer` for this regression task. There are many ways to represent materials, but details about differents sorts of materials representations are beyond the scope of this course."
      ],
      "metadata": {
        "id": "d9cg1Gc6egbG"
      }
    },
    {
      "cell_type": "markdown",
      "source": [
        "### Composition-based features\n",
        "\n",
        "To use the `ElementProperty` featuriser, we first need to add a `pymatgen.core.composition.Composition` object to our DataFrame. There are several ways to do this but we will proceed using the `composition` property of the pymatgen `Structure` class."
      ],
      "metadata": {
        "id": "_-OrLWRZekU4"
      }
    },
    {
      "cell_type": "code",
      "source": [
        "from matminer.featurizers.composition.composite import ElementProperty\n",
        "from matminer.featurizers.structure.order import DensityFeatures\n",
        "\n",
        "# Add a composition column to df using the composition property of the Structure class and a lambda function\n",
        "df['composition'] = df.structure.apply(lambda x: x.composition )\n",
        "df.head()"
      ],
      "metadata": {
        "id": "WFnTE38zeffh"
      },
      "execution_count": null,
      "outputs": []
    },
    {
      "cell_type": "markdown",
      "source": [
        "The new composition column contains both the elements and the amount of each element in the composition. Let's use the `ElementProperty` featuriser to add some composition-based features to our dataset."
      ],
      "metadata": {
        "id": "qO9Zvm10erJA"
      }
    },
    {
      "cell_type": "code",
      "source": [
        "# Create the ElementProperty featuriser\n",
        "el_prop_featuriser = ElementProperty.from_preset(preset_name='magpie')\n",
        "\n",
        "# By default multiprocessing is enabled, however this has been known to slow performance on some systems, so we disable it\n",
        "el_prop_featuriser.set_n_jobs(1)\n",
        "\n",
        "# Apply the ElementProperty featuriser\n",
        "df = el_prop_featuriser.featurize_dataframe(df, col_id='composition')\n",
        "\n",
        "# Print the shape of the DataFrame\n",
        "print(df.shape)\n",
        "df.head()"
      ],
      "metadata": {
        "id": "d59JcPTFetaF"
      },
      "execution_count": null,
      "outputs": []
    },
    {
      "cell_type": "markdown",
      "source": [
        "There are now a lot more columns in the DataFrame. We can check the reference for a property featuriser using the `.citations()` method as shown below."
      ],
      "metadata": {
        "id": "dTsuFB20euch"
      }
    },
    {
      "cell_type": "code",
      "source": [
        "el_prop_featuriser.citations()"
      ],
      "metadata": {
        "id": "1kBefrwFeyDd"
      },
      "execution_count": null,
      "outputs": []
    },
    {
      "cell_type": "markdown",
      "source": [
        "### Structure-based features\n",
        "\n",
        "Within `matminer`, there are many featurisers which operate on crystal structures. We will add some simple features based on the density of the structures using `DensityFeatures`. We will return to these later in the module."
      ],
      "metadata": {
        "id": "vDGKaAMOe0Gp"
      }
    },
    {
      "cell_type": "code",
      "source": [
        "# Crystal structure to vector\n",
        "density_featuriser = DensityFeatures()\n",
        "density_featuriser.set_n_jobs(1)\n",
        "df=density_featuriser.fit_featurize_dataframe(df, col_id='structure')\n",
        "\n",
        "df.head()"
      ],
      "metadata": {
        "id": "dJMcUU3pe1WH"
      },
      "execution_count": null,
      "outputs": []
    },
    {
      "cell_type": "markdown",
      "source": [
        "## Bulk modulus regression\n",
        "\n",
        "With regression tasks, we want to fit a model that maps our input feature $x$ to our target variable $y$, i.e. $y=f(x)$. Here, $x$ and $y$ are vectors of dimensions $M$ and $N$, respectively, such that $f: \\mathbb{R}^M\\rightarrow\\mathbb{R}^N$.  \n",
        "\n",
        "Supervised machine learning problems generally take the following form:\n",
        "* Select a form for the model $f$\n",
        "* Determine an error/loss function that is used to evaluate model performance\n",
        "* Optimise the parameters of the model to minimise the error\n",
        "\n",
        "The error, $L(\\hat{y},y)$, is a function of the predicted target variable $\\hat{\\textbf{y}}=f(\\textbf{x})$ and the true target variable, $\\textbf{y}$. We want our model to minimise $L$.\n",
        "\n",
        "For our problem. the target variable is `log(K_VRH)`, which we want to predict from knowledge of the composition and structure (represented by the set of chosen features).\n",
        "\n",
        "We can make extensive use of `scikit-learn` (https://scikit-learn.org) for these tasks."
      ],
      "metadata": {
        "id": "RMxTnGCAe4fc"
      }
    },
    {
      "cell_type": "markdown",
      "source": [
        "### Data preparation\n",
        "\n",
        "To start, we need to split our dataset into the target variable `log10(K_VRH)` and the input features. For the input features, we must remove any non-numerical data."
      ],
      "metadata": {
        "id": "4HXB8q_Xe8GB"
      }
    },
    {
      "cell_type": "code",
      "source": [
        "# Define the features we want to keep\n",
        "features_to_drop = ['structure','composition','log10(K_VRH)']\n",
        "feature_cols = [col for col in list(df.columns) if col not in features_to_drop]\n",
        "\n",
        "# Get an array of the features\n",
        "X = df[feature_cols].values\n",
        "\n",
        "# Get an array of the target variable\n",
        "y = df['log10(K_VRH)'].values\n",
        "\n",
        "print(f'Shape of X: {X.shape}')\n",
        "print(f'Shape of y: {y.shape}')"
      ],
      "metadata": {
        "id": "aRfzf1Koe-GD"
      },
      "execution_count": null,
      "outputs": []
    },
    {
      "cell_type": "markdown",
      "source": [
        "We can also check the names of the features used for our model.\n"
      ],
      "metadata": {
        "id": "QDZJt-QTfA-P"
      }
    },
    {
      "cell_type": "code",
      "source": [
        "print(f'We have {len(feature_cols)} features in our dataset.')\n",
        "print(feature_cols)"
      ],
      "metadata": {
        "id": "RlUXx1ybfDSr"
      },
      "execution_count": null,
      "outputs": []
    },
    {
      "cell_type": "markdown",
      "source": [
        "### Baseline linear regression model\n",
        "A simple model is the linear regressor.  For a univariate linear regressor represented by $\\hat{y}=mx+c$, the task is to find the best value of $m$ and $c$ that minimise the model error.\n",
        "\n",
        "If we were to consider multivariate linear regression, then our equation transforms to $\\hat{y}=\\beta_0 + ∑_1^n\\beta_ix_i$, where $\\beta_i$ are the weights of the model and $x_i$ are the input features."
      ],
      "metadata": {
        "id": "Ir_bTriafFTl"
      }
    },
    {
      "cell_type": "code",
      "source": [
        "# Import linear regression model\n",
        "from sklearn.linear_model import LinearRegression\n",
        "import matplotlib.pyplot as plt\n",
        "\n",
        "# Fit the model to the data\n",
        "lr = LinearRegression()\n",
        "lr.fit(X, y)\n",
        "\n",
        "def make_prediction_plot(X, y, model, label):\n",
        "    \"\"\"\n",
        "    Plot and return predictions for the given model and data.\n",
        "\n",
        "    Parameters:\n",
        "    X : Input features.\n",
        "    y : Actual target values.\n",
        "    model : Fitted model.\n",
        "    label : Descriptor for the axes labels.\n",
        "\n",
        "    Returns:\n",
        "    Predicted values.\n",
        "    \"\"\"\n",
        "    y_pred = model.predict(X)\n",
        "    fig, ax = plt.subplots(figsize=(5, 3))\n",
        "    ax.scatter(y, y_pred, c=y, cmap='viridis')\n",
        "    ax.plot(y, y, 'r-')\n",
        "    ax.set_xlabel(f'{label} true')\n",
        "    ax.set_ylabel(f'{label} predicted')\n",
        "    plt.show()\n",
        "\n",
        "    return y_pred\n",
        "\n",
        "# Make predictions using the fitted model\n",
        "y_pred = make_prediction_plot(X, y, lr, 'log10(K_VRH)')"
      ],
      "metadata": {
        "id": "jtvtOGyxfGb3"
      },
      "execution_count": null,
      "outputs": []
    },
    {
      "cell_type": "markdown",
      "source": [
        "Note how prediction errors tend to be higher for extreme values – this may reflect the model struggling with sparse data in certain regions of the materials space."
      ],
      "metadata": {
        "id": "0dRlEtrnfJ_q"
      }
    },
    {
      "cell_type": "code",
      "source": [
        "from sklearn import metrics\n",
        "\n",
        "# Mean absolute error\n",
        "print (f'The training MAE = {metrics.mean_absolute_error(y,y_pred):.3f} log10GPa')\n",
        "\n",
        "# Mean squared error\n",
        "print(f'The training RMSE = {metrics.root_mean_squared_error(y,y_pred):.3f} log10GPa')\n",
        "\n",
        "# $r^2$ - coefficient of determination\n",
        "print(f'The training r^2 = {lr.score(X,y):.3f}')"
      ],
      "metadata": {
        "id": "lVuN2OA-fLxn"
      },
      "execution_count": null,
      "outputs": []
    },
    {
      "cell_type": "markdown",
      "source": [
        "Based on your analysis, is this a useful model?"
      ],
      "metadata": {
        "id": "-qMgqJ0pfM5d"
      }
    },
    {
      "cell_type": "markdown",
      "source": [
        "### Random forest regressor\n",
        "\n",
        "We can do better with a non-linear model. Let's try a machine learning regressor. [Random forest](https://en.wikipedia.org/wiki/Random_forest) is an ensemble machine learning algorithm that combines multiple [decision trees](https://en.wikipedia.org/wiki/Decision_tree) to improve predictive accuracy.\n",
        "\n",
        "Random forest can be applied to both classification and regression tasks. The prediction is made by taking a majority vote (for classification) or averaging (for regression) of the predictions from individual trees. Mathematically, it can be represented as:\n",
        "\n",
        "$\n",
        "\\hat{y}_{RF} = \\frac{1}{n_{trees}} \\sum_{i=1}^{n_{trees}} f_i(x)\n",
        "$\n",
        "\n",
        "where:\n",
        "- $\\hat{y}_{RF}$ is the random forest prediction.\n",
        "- $n_{trees}$ is the number of decision trees in the forest.\n",
        "- $f_i(x)$ represents the prediction of the $i$-th tree.\n",
        "\n",
        "#### 1. Create the regressor\n",
        "\n",
        "In `sklearn`, the random forest regressor is created by:\n",
        "\n",
        "```python\n",
        "RandomForestRegressor(n_estimators=<int>, criterion=<str>, max_depth=<int>, min_samples_split=<int>, min_samples_leaf=<int>)\n",
        "```\n",
        "\n",
        "The hyperparameters that need to be set are:\n",
        "* `n_estimators`: number of decision trees in the random forest model.\n",
        "* `criterion`: loss function to be minimised. Default value is 'squared_error` which is the MSE.\n",
        "* `max_depth`: maximum depth of the tree.\n",
        "* `min_sample_split`: minimum number of samples required to split an internal node.\n",
        "* `min_samples_leaf`: minimum number of samples required to be at a leaf node."
      ],
      "metadata": {
        "id": "e0LJFwT_fQto"
      }
    },
    {
      "cell_type": "code",
      "source": [
        "from sklearn.ensemble import RandomForestRegressor\n",
        "\n",
        "# Define the model\n",
        "rf = RandomForestRegressor(n_estimators=100,criterion='squared_error', max_depth=None, min_samples_split=2, min_samples_leaf=1, random_state=42)\n",
        "\n",
        "# Fit the model\n",
        "rf.fit(X,y)"
      ],
      "metadata": {
        "id": "9OFpAMEgfU5l"
      },
      "execution_count": null,
      "outputs": []
    },
    {
      "cell_type": "markdown",
      "source": [
        "<details>\n",
        "<summary> Why is the random state set to 42?</summary>\n",
        "Most random number generators start with an initial seed value and then produces a sequence of numbers that appears random. Since the algorithms are deterministic, providing the same seed will result in the same sequence of \"random\" numbers. 42 is simply a science fiction reference.\n",
        "</details>\n",
        "\n",
        "You just trained a machine learning model 🎉.  \n",
        "\n",
        "We can now make predictions and plot the results. We will use the plotting function `make_prediction_plot()` that we defined earlier to make the plots."
      ],
      "metadata": {
        "id": "30CcwoX_faaO"
      }
    },
    {
      "cell_type": "code",
      "source": [
        "print(\"Linear regression\")\n",
        "y_pred_lr = make_prediction_plot(X,y,lr,'log10(K_VRH)')\n",
        "\n",
        "print(\"Random Forest model\")\n",
        "y_pred = make_prediction_plot(X,y,rf,'log10(K_VRH)')"
      ],
      "metadata": {
        "id": "YXUe8F8cfb4K"
      },
      "execution_count": null,
      "outputs": []
    },
    {
      "cell_type": "markdown",
      "source": [
        "Now let's quantify the performance of the random forest model:"
      ],
      "metadata": {
        "id": "Eb8vXs57ffv7"
      }
    },
    {
      "cell_type": "code",
      "source": [
        "# Print the metrics\n",
        "print(f'The training MAE = {metrics.mean_absolute_error(y,y_pred):.3f} log10GPa')\n",
        "print(f'The training RMSE = {metrics.root_mean_squared_error(y,y_pred):.3f} log10GPa')\n",
        "print(f'The training r^2 = {rf.score(X,y):.3f}')"
      ],
      "metadata": {
        "id": "Cn9skx-ifgb9"
      },
      "execution_count": null,
      "outputs": []
    },
    {
      "cell_type": "markdown",
      "source": [
        "The coefficient of determination, $r^2$, as well as the low RMSE suggest that this model is performs well. However, it is also likely that the model is simply overly-fitted to reproduce the training data. This means that it will not generalise to other materials (unseen data), which is necessary for a meaningful machine learning model."
      ],
      "metadata": {
        "id": "NVQNO8QjfjVo"
      }
    },
    {
      "cell_type": "markdown",
      "source": [
        "#### 2. Cross validation\n",
        "To better determine the quality of our model, we can peform cross-validation (CV). CV enables us to evaluate the out-of-sample goodness-of-fit of a regressor. We will use $k$-fold CV, which splits the training set into $k$ subsets. Each subset is used as a validation set to evaluate the performance, with the model being trained on the remaining $k-1$ subsets.\n",
        "\n",
        "Let's perform 5-fold CV:"
      ],
      "metadata": {
        "id": "tsh0OJfjfpKz"
      }
    },
    {
      "cell_type": "code",
      "source": [
        "from sklearn.model_selection import KFold, cross_val_score, cross_validate\n",
        "\n",
        "# Define the number of splits for cross-validation\n",
        "n_splits = 5 if teaching_mode else 10\n",
        "\n",
        "# Compute the cross-validation score\n",
        "cv = KFold(\n",
        "    n_splits=n_splits,\n",
        "    shuffle=True,\n",
        "    random_state=42\n",
        "    )\n",
        "\n",
        "scores= cross_val_score(rf, X, y,cv=cv, scoring='neg_mean_absolute_error')\n",
        "\n",
        "r2_scores = cross_val_score(rf, X, y, cv=cv, scoring='r2')\n",
        "\n",
        "print('From our cross-validation, we have obtained the following results:')\n",
        "print(f'mean MAE = {np.mean(np.abs(scores)):.3f} log10GPa')\n",
        "print(f'mean r^2 = {np.mean(np.abs(r2_scores)):.3f}')"
      ],
      "metadata": {
        "id": "BH_tUbxdfl4A"
      },
      "execution_count": null,
      "outputs": []
    },
    {
      "cell_type": "code",
      "source": [
        "# Show the training scores for each k-fold\n",
        "fig, ax = plt.subplots(2, 1, figsize=(5, 4))\n",
        "\n",
        "ax[0].scatter([i for i in range(len(scores))], np.abs(scores), c=scores, cmap='viridis')\n",
        "ax[1].scatter([i for i in range(len(r2_scores))], np.abs(r2_scores), c=r2_scores, cmap='viridis')\n",
        "ax[0].set_xlabel('Training fold')\n",
        "ax[0].set_ylabel('MAE')\n",
        "ax[0].set_ylim(0, 0.14)\n",
        "ax[0].set_xticks(range(len(scores)))\n",
        "ax[1].set_xticks(range(len(r2_scores)))\n",
        "ax[1].set_xlabel('Training fold')\n",
        "ax[1].set_ylabel('r$^2$')\n",
        "ax[1].set_ylim(0, 1.0)\n",
        "\n",
        "# Display the plot\n",
        "plt.show()"
      ],
      "metadata": {
        "id": "coIFYJj5fsen"
      },
      "execution_count": null,
      "outputs": []
    },
    {
      "cell_type": "markdown",
      "source": [
        "There is an increase in the error (decrease in performance) for the CV model. However, the MAE is still reasonable. Let's visualise the result of the final model:"
      ],
      "metadata": {
        "id": "aJemB3dDfv_L"
      }
    },
    {
      "cell_type": "code",
      "source": [
        "from sklearn.model_selection import cross_val_predict\n",
        "\n",
        "# Plot the original and predicted data against each other\n",
        "fig, ax = plt.subplots(figsize=(5, 3))\n",
        "\n",
        "# Scatter plot with color\n",
        "ax.scatter(y, cross_val_predict(rf, X, y, cv=cv), c=y, cmap='viridis', label='Predicted', alpha=0.6)\n",
        "\n",
        "# Red line representing a perfect prediction (y = x)\n",
        "ax.plot(y, y, 'r-', label='Perfect prediction')\n",
        "\n",
        "# Set labels and legend\n",
        "ax.set_xlabel('K_VRH true')\n",
        "ax.set_ylabel('K_VRH predicted')\n",
        "ax.legend()\n",
        "\n",
        "plt.show()"
      ],
      "metadata": {
        "id": "fc43rI0ufwy6"
      },
      "execution_count": null,
      "outputs": []
    },
    {
      "cell_type": "markdown",
      "source": [
        "## Feature importance\n",
        "\n",
        "We fed in many materials features, but which were most useful? Understanding this will increase our understanding (the interpretability) of the model.\n",
        "\n",
        "We can see how particular features contribute to a Random Forest model by looking at the `RandomForestRegressor().feature_importances_` attribute. Some features are significant, whereas others offer very little contribution."
      ],
      "metadata": {
        "id": "QboHdMbTfzII"
      }
    },
    {
      "cell_type": "code",
      "source": [
        "# Get the feature importances\n",
        "importances = rf.feature_importances_\n",
        "\n",
        "# Get the indices that would sort the importances array from largest to smallest\n",
        "indices = np.argsort(importances)[::-1]\n",
        "\n",
        "# Create a figure and axis for the plot\n",
        "fig, ax = plt.subplots(figsize=(5, 3))\n",
        "\n",
        "# Create a bar plot of the feature importance\n",
        "ax.bar(range(X.shape[1]), importances[indices], color=\"r\", align=\"center\")\n",
        "\n",
        "# Set the labels\n",
        "ax.set_xlabel(\"Feature index\")\n",
        "ax.set_ylabel(\"Importance\")\n",
        "\n",
        "plt.show()"
      ],
      "metadata": {
        "id": "SVLVf_a2f1uN"
      },
      "execution_count": null,
      "outputs": []
    },
    {
      "cell_type": "markdown",
      "source": [
        "There is a rapid drop off in the feature importance, with few features offering a significant contribution to the model.\n",
        "\n",
        "Below we will only plot the importance for the top-$N$ features. Try a value of 5. I guess the top feature is `vpa` (Volume per atom)."
      ],
      "metadata": {
        "id": "Pp4KKgkef4Zc"
      }
    },
    {
      "cell_type": "code",
      "source": [
        "# Visualise the top N features\n",
        "N = 5\n",
        "\n",
        "# Get the names of the top N important features\n",
        "top_feature_names = df[feature_cols].columns.values[np.argsort(importances)[::-1][:N]]\n",
        "\n",
        "# Set up the figure and axis\n",
        "fig, ax = plt.subplots(figsize=(5, 3))\n",
        "\n",
        "# Create a bar plot of the top N feature importances\n",
        "ax.bar(x=top_feature_names, height=importances[np.argsort(importances)[::-1][:N]])\n",
        "\n",
        "# Set the labels and title\n",
        "ax.set_xlabel(\"Feature\")\n",
        "ax.set_ylabel(\"Importance\")\n",
        "\n",
        "# Rotate x-axis labels for better readability\n",
        "ax.set_xticklabels(top_feature_names, rotation=45, ha='right', rotation_mode='anchor')\n",
        "\n",
        "plt.show()\n",
        "\n",
        "# Print them too\n",
        "print(f\"Top {N} Features:\")\n",
        "for feat in range(N):\n",
        "    print(f\"    {feat+1}. {feature_cols[indices[feat]]} ({importances[indices[feat]]:.3f})\")"
      ],
      "metadata": {
        "id": "OPXsZWyhf6nM"
      },
      "execution_count": null,
      "outputs": []
    },
    {
      "cell_type": "markdown",
      "source": [
        "Checking feature importance helps you understand which input variables are driving your model’s predictions, allowing you to validate whether the model is learning meaningful patterns or relying on spurious correlations."
      ],
      "metadata": {
        "id": "YpZjkdHlf_-n"
      }
    },
    {
      "cell_type": "code",
      "source": [
        "# Import of modules\n",
        "import pandas as pd  # Data manipulation with DataFrames\n",
        "import numpy as np  # Numerical operations\n",
        "import matplotlib.pyplot as plt  # Plotting\n",
        "import pprint  # Pretty print data structures\n",
        "import os  # Operating system functions\n",
        "import seaborn as sns  # Visualisation\n",
        "from sklearn.decomposition import PCA  # Principal component analysis (PCA)\n",
        "from sklearn.cluster import KMeans # k-means clustering\n",
        "from sklearn.metrics import accuracy_score, confusion_matrix  # Model evaluation\n",
        "from sklearn.tree import DecisionTreeClassifier  # Decision tree classifier"
      ],
      "metadata": {
        "id": "Vw6ML9Y5gA1X"
      },
      "execution_count": null,
      "outputs": []
    },
    {
      "cell_type": "markdown",
      "source": [
        "## Example 2: Predicting thermoelectric performance with complex features\n",
        "\n",
        "Thermoelectric materials are a class of materials that can directly convert heat into electricity and vice versa, through the **Seebeck** and **Peltier** effects. These materials hold promise for energy harvesting applications – including waste heat recovery in industrial processes and power generation in remote locations – as well as solid-state cooling.\n",
        "\n",
        "![TEG-skizze.jpg](data:image/jpeg;base64,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)\n",
        "\n",
        "## Key Properties\n",
        "\n",
        "The performance of a thermoelectric material is characterised by the **dimensionless figure of merit**, *ZT*, defined as:\n",
        "\n",
        "\n",
        "$$\n",
        "ZT = \\frac{S^2 \\sigma T}{\\kappa}\n",
        "$$\n",
        "\n",
        "Where:\n",
        "- *S* is the Seebeck coefficient (μV/K)\n",
        "- *σ* is the electrical conductivity (S/m)\n",
        "- *T* is the absolute temperature (K)\n",
        "- *κ* is the thermal conductivity (W/m·K), which includes both lattice and electronic contributions\n",
        "\n",
        "An ideal thermoelectric material would exhibit:\n",
        "- A high Seebeck coefficient\n",
        "- High electrical conductivity\n",
        "- Low thermal conductivity\n",
        "\n",
        "However, these properties are often interdependent – for example, increasing electrical conductivity can increase thermal conductivity – making the design of efficient thermoelectric materials a complex challenge.\n"
      ],
      "metadata": {
        "id": "_vXHWMHvgKCy"
      }
    },
    {
      "cell_type": "markdown",
      "source": [
        "Note that zT is a composite property – it depends nonlinearly on several underlying quantities (S, σ, κ), which are themselves interrelated. This makes direct prediction of zT challenging and a good example of why domain knowledge is critical when applying ML in materials science."
      ],
      "metadata": {
        "id": "f2YEjyFdgWxl"
      }
    },
    {
      "cell_type": "markdown",
      "source": [
        "## Chemical space of thermoelectric materials\n",
        "\n",
        "We will use the Python package `matminer` (https://matminer.readthedocs.io) to access the materials dataset and featurise the data in a form that is suitable for statistical analysis and building machine learning models. Today we use it to explore thermoelectric materials.\n",
        "\n",
        "Thermoelectric devices convert temperature differences directly into electrical voltage, enabling applications in power generation and refrigeration. Their efficiency is characterised by the dimensionless figure of merit (zT), which depends on electrical conductivity, Seebeck coefficient, and thermal conductivity (read more [here](https://www.nature.com/articles/nmat2090)). Unlike with bulk modulus, this database contains a lot of information on these materials. Let's explore the diverse compositions that give rise to these properties."
      ],
      "metadata": {
        "id": "LjZEDe9EgeFB"
      }
    },
    {
      "cell_type": "code",
      "source": [
        "import matminer  # Materials informatics\n",
        "from matminer.datasets.dataset_retrieval import load_dataset  # Load materals datasets\n",
        "\n",
        "print(matminer.datasets.dataset_retrieval.get_all_dataset_info('ucsb_thermoelectrics'))"
      ],
      "metadata": {
        "id": "T0r_1dIXggYh"
      },
      "execution_count": null,
      "outputs": []
    },
    {
      "cell_type": "markdown",
      "source": [
        "Compared to the bulk modulus example which uses a small number of manually selected, interpretable features, this dataset includes a large set of automatically generated features. This shift reflects a common challenge in materials science: capturing enough chemical and structural richness for accurate predictions, while managing complexity and interpretability.The dataset is a reasonable size, so we can load it all without downsampling."
      ],
      "metadata": {
        "id": "8EkiVWkOgifM"
      }
    },
    {
      "cell_type": "code",
      "source": [
        "# Use matminer to download the dataset\n",
        "df = load_dataset('ucsb_thermoelectrics')\n",
        "\n",
        "print(f'The full dataset contains {df.shape[0]} entries. \\n')\n",
        "print('The DataFrame is shown below:')\n",
        "df.head(10)"
      ],
      "metadata": {
        "id": "gXPwHhpiglTj"
      },
      "execution_count": null,
      "outputs": []
    },
    {
      "cell_type": "markdown",
      "source": [
        "Let's perform a deeper check:"
      ],
      "metadata": {
        "id": "Xjwszjcggn9K"
      }
    },
    {
      "cell_type": "code",
      "source": [
        "# Display the columns of the dataset\n",
        "print(\"Columns in the dataset:\")\n",
        "print(df.columns)\n",
        "\n",
        "# Check for any missing values in the dataset\n",
        "print(\"\\nChecking for missing values:\")\n",
        "print(df.isnull().sum())"
      ],
      "metadata": {
        "id": "VmjwjMKagpR9"
      },
      "execution_count": null,
      "outputs": []
    },
    {
      "cell_type": "markdown",
      "source": [
        "First, let's visualise the distribution of the zT performance metric in the dataset. This will help us understand the range and common values."
      ],
      "metadata": {
        "id": "4h_1xLuMgt0z"
      }
    },
    {
      "cell_type": "code",
      "source": [
        "import matplotlib.pyplot as plt\n",
        "import seaborn as sns\n",
        "\n",
        "# Plot the distribution of zT values\n",
        "plt.figure(figsize=(5, 4))\n",
        "sns.histplot(df['zT'], bins=50, kde=True)\n",
        "plt.title('Thermoelectric figure of merit (zT)')\n",
        "plt.xlabel('zT (unitless)')\n",
        "plt.ylabel('Frequency')\n",
        "plt.show()"
      ],
      "metadata": {
        "id": "02wGCSBUgunb"
      },
      "execution_count": null,
      "outputs": []
    },
    {
      "cell_type": "markdown",
      "source": [
        "What do you think might be a problem if you tried to use this dataset to create a model which predicts high zT materials?"
      ],
      "metadata": {
        "id": "r5qFszHigyBL"
      }
    },
    {
      "cell_type": "markdown",
      "source": [
        "Next, we will analyse the distribution of elements within our thermoelectrics dataset by creating a heatmap over the periodic table. This would take a lot of time from scratch, but we can use the [pymatviz](https://github.com/janosh/pymatviz) package."
      ],
      "metadata": {
        "id": "hIYn5jYdgym0"
      }
    },
    {
      "cell_type": "code",
      "source": [
        "import re\n",
        "from collections import Counter\n",
        "from pymatviz import ptable_heatmap\n",
        "\n",
        "# Extract all unique elements from the composition column\n",
        "elements = []\n",
        "for composition in df['composition']:\n",
        "    # Split each composition by non-alphanumeric characters to extract elements\n",
        "    elements += [part for part in re.split('[^a-zA-Z]', composition) if part]\n",
        "\n",
        "# Count the frequency of each element\n",
        "element_counts = Counter(elements)\n",
        "\n",
        "# Convert the Counter object to a dictionary for the heatmap\n",
        "element_counts_dict = dict(element_counts)\n",
        "\n",
        "# Create the periodic table heatmap\n",
        "fig = ptable_heatmap(\n",
        "    element_counts_dict,\n",
        "    colormap=\"viridis\",\n",
        "    cbar_label_fmt=\"Frequency of Elements\",\n",
        "    log=True,  # Use logarithmic scale for better visualisation\n",
        "    value_kwargs={\"fontsize\": 10},  # Adjust font size for element labels\n",
        "    return_type=\"figure\"  # Return the figure for further customisation\n",
        ")\n",
        "\n",
        "# Add a title\n",
        "fig.suptitle(\"Element Frequency in Thermoelectric Dataset\", fontsize=16, fontweight=\"bold\")\n",
        "\n",
        "# Display the plot\n",
        "plt.show()"
      ],
      "metadata": {
        "id": "I-9PeXMJg0nZ"
      },
      "execution_count": null,
      "outputs": []
    },
    {
      "cell_type": "markdown",
      "source": [
        "Given that some elements appear much more frequently than others in this dataset, what problems might arise if we try to build a model that predicts thermoelectric performance for materials containing underrepresented elements?"
      ],
      "metadata": {
        "id": "A_mpJamUg6qF"
      }
    },
    {
      "cell_type": "markdown",
      "source": [
        "## Unsupervised machine learning\n",
        "\n",
        "We have a set of materials with different compositions. We can use machine learning to visualise these in two or three dimensions. You can think of this like a materials map.\n",
        "\n",
        "We refer to the methods that enable us to reduce high-dimensional data into lower dimensions as [dimensionality reduction techniques](https://scikit-learn.org/stable/modules/manifold.html). These allow us to visualise complex data and in this example we will make use of Principal Component Analysis (PCA).\n",
        "\n",
        "<details>\n",
        "<summary> Overview of PCA </summary>\n",
        "PCA is a popular technique for dimensionality reduction and data preprocessing, enabling the simplification of complex datasets. High-dimensional data is transformed into a new coordinate system where the axes align with the directions of maximum variance in the original data. These new axes, termed \"principal components,\" are orthogonal. The first principal component captures the highest variance, the second captures the second highest, etc.\n",
        "\n",
        "_Key use cases include:_\n",
        "\n",
        "- **Dimensionality Reduction**: Identifying and eliminating less informative dimensions, reducing noise and computational complexity.\n",
        "\n",
        "- **Data Visualisation**: Facilitating easier interpretation while preserving essential patterns.\n",
        "\n",
        "- **Noise Reduction**: Filtering out noise or unimportant variations by focusing on significant variance.\n",
        "\n",
        "- **Feature Engineering**: A preprocessing step to transform data before applying machine learning algorithms, potentially improving performance.\n",
        "\n",
        "_PCA workflow:_\n",
        "\n",
        "1. **Center the Data**: Subtract the mean from each feature to center the data around the origin.\n",
        "\n",
        "   $\n",
        "   X_{\\text{centered}} = X - \\bar{X}\n",
        "   $\n",
        "\n",
        "2. **Calculate Covariance Matrix**: Compute the covariance matrix to understand feature relationships and their [covariance](https://en.wikipedia.org/wiki/Covariance).\n",
        "\n",
        "   $\n",
        "   \\text{Cov}(X) = \\frac{1}{n}X_{\\text{centered}}^T X_{\\text{centered}}\n",
        "   $\n",
        "\n",
        "3. **Compute Eigenvalues and Eigenvectors**: Calculate eigenvalues ($\\lambda_i$) and eigenvectors ($\\mathbf{v}_i$) of the covariance matrix. Eigenvectors represent maximum variance directions, and eigenvalues quantify the variance magnitude.\n",
        "\n",
        "   $\n",
        "   \\text{Cov}(X) \\mathbf{v}_i = \\lambda_i \\mathbf{v}_i\n",
        "   $\n",
        "\n",
        "4. **Sort Eigenvalues**: Sort eigenvalues in descending order, rearranging corresponding eigenvectors accordingly.\n",
        "\n",
        "5. **Select Principal Components**: Choose a subset of eigenvectors (principal components) based on eigenvalues, explaining the most variance in the data.\n",
        "\n",
        "6. **Project Data**: Project original data onto selected principal components, yielding a lower-dimensional representation.\n",
        "\n",
        "Note that PCA analysis is limited by its reliance on linear transformations of the data. In cases where non-linear structures are prominent, alternative techniques such as t-distributed Stochastic Neighbor Embedding (t-SNE) can be used.\n",
        "</details>"
      ],
      "metadata": {
        "id": "R-fTb4n2g9zO"
      }
    },
    {
      "cell_type": "code",
      "source": [
        "# Perform PCA analysis\n",
        "from sklearn.decomposition import PCA\n",
        "plt.rcdefaults() # Reset the matplotlib style\n",
        "\n",
        "# Random 10D vectors for demonstration purposes\n",
        "np.random.seed(42)\n",
        "num_samples = 1000\n",
        "dimensionality = 2\n",
        "random_state = 42\n",
        "data = np.random.rand(num_samples, dimensionality)\n",
        "\n",
        "# Perform PCA to reduce the dimensionality to 2D\n",
        "pca = PCA(n_components=dimensionality)\n",
        "reduced_data = pca.fit_transform(data)\n",
        "\n",
        "# Create a color map based on the original data points\n",
        "   # Use the first dimension of the original data as the color value\n",
        "color_map = data[:, 0]\n",
        "\n",
        "# Plot the 2D projection\n",
        "plt.figure(figsize=(5, 3))\n",
        "plt.scatter(reduced_data[:, 0], reduced_data[:, 1], c=color_map, cmap='viridis')\n",
        "plt.colorbar(label='Colour based on first dimension')\n",
        "plt.xlabel('Principal Component 1')\n",
        "plt.ylabel('Principal Component 2')\n",
        "plt.title('2D projection using PCA')\n",
        "plt.show()"
      ],
      "metadata": {
        "id": "Wb-dpxx6g9Jx"
      },
      "execution_count": null,
      "outputs": []
    },
    {
      "cell_type": "markdown",
      "source": [
        "#### Featurise compositions\n",
        "\n",
        "Using our dataset, we can try different featurisation schemes and analyse the resulting visualisations. Here we will perform a Magpie encoding of chemical compositions using the [ElementEmbeddings](https://github.com/WMD-group/ElementEmbeddings) package."
      ],
      "metadata": {
        "id": "rqoi-t26hBew"
      }
    },
    {
      "cell_type": "code",
      "source": [
        "from elementembeddings.composition import composition_featuriser\n",
        "\n",
        "magpie_df = composition_featuriser(df, formula_column=\"composition\", embedding='magpie')\n",
        "magpie_df.head()"
      ],
      "metadata": {
        "id": "141Sdr7Og5Dw"
      },
      "execution_count": null,
      "outputs": []
    },
    {
      "cell_type": "markdown",
      "source": [
        "Note all of the extra columns that have been added containing the features. We need to do a little cleanup of the DataFrame and can then proceed with our PCA analysis."
      ],
      "metadata": {
        "id": "pyFAwiqmhGh2"
      }
    },
    {
      "cell_type": "code",
      "source": [
        "from sklearn.decomposition import PCA\n",
        "from sklearn.preprocessing import StandardScaler\n",
        "import matplotlib.pyplot as plt\n",
        "\n",
        "# Select only the new features by dropping the original columns and handling NaNs\n",
        "new_features_df = magpie_df.drop(columns=df.columns).dropna()\n",
        "\n",
        "# Extract feature values\n",
        "X = new_features_df.values\n",
        "X_standardised = StandardScaler().fit_transform(X)\n",
        "\n",
        "# Perform PCA to reduce dimensionality to 2D\n",
        "pca = PCA(n_components=2)\n",
        "reduced_data = pca.fit_transform(X_standardised)\n",
        "\n",
        "# Create a single plot for visualisation\n",
        "fig, ax = plt.subplots(figsize=(6, 4))\n",
        "\n",
        "# Select a label for coloring (assuming zT column exists in the original df)\n",
        "color_map = df[\"zT\"].values  # Use original DataFrame for the label (e.g., zT)\n",
        "\n",
        "# Scatter plot in 2D space\n",
        "scatter = ax.scatter(reduced_data[:, 0], reduced_data[:, 1], c=color_map, cmap='viridis', alpha=0.25, s=100)\n",
        "\n",
        "# Add labels and title\n",
        "ax.set_xlabel(\"Component 1\")\n",
        "ax.set_ylabel(\"Component 2\")\n",
        "ax.set_title(\"2D PCA of Magpie Features\")\n",
        "\n",
        "# Add colour bar\n",
        "fig.colorbar(scatter, ax=ax, label=\"zT\")\n",
        "\n",
        "# Show the plot\n",
        "plt.show()"
      ],
      "metadata": {
        "id": "DE8kuQOlhI4F"
      },
      "execution_count": null,
      "outputs": []
    },
    {
      "cell_type": "markdown",
      "source": [
        "That seems to work, but let's check how amount of variance is captured by our two dimensions. Getting above 50% for only two dimensions is fine, but for real applications we may increase the number of components needed to explain a higher threshold (e.g. 80%-90%)."
      ],
      "metadata": {
        "id": "U-p15m4khNBK"
      }
    },
    {
      "cell_type": "code",
      "source": [
        "# Check explained variance\n",
        "explained_variance = pca.explained_variance_ratio_\n",
        "cumulative_variance = explained_variance.cumsum()\n",
        "print(f\"Explained variance by Component 1: {explained_variance[0]:.2f}\")\n",
        "print(f\"Explained variance by Component 2: {explained_variance[1]:.2f}\")\n",
        "print(f\"Cumulative variance explained by 2 components: {cumulative_variance[1]:.2f}\")"
      ],
      "metadata": {
        "id": "uZ0VsEsVhQdi"
      },
      "execution_count": null,
      "outputs": []
    },
    {
      "cell_type": "markdown",
      "source": [
        "\n",
        "Now, wouldn't it be nice if we could see what material each data point refers to. [Plotly](https://plotly.com/python/) can help with that."
      ],
      "metadata": {
        "id": "DJ32qLX0hSvy"
      }
    },
    {
      "cell_type": "code",
      "source": [
        "import plotly.express as px\n",
        "\n",
        "# Add the zT column and composition column from the original DataFrame for coloring and hover info\n",
        "plot_df = pd.DataFrame(reduced_data, columns=['Component 1', 'Component 2'])\n",
        "plot_df['zT'] = df['zT'].values\n",
        "plot_df['composition'] = df['composition'].values  # Assuming this is the column with chemical formulas\n",
        "\n",
        "# Create an interactive scatter plot using Plotly\n",
        "fig = px.scatter(\n",
        "    plot_df,\n",
        "    x='Component 1',\n",
        "    y='Component 2',\n",
        "    color='zT',\n",
        "    color_continuous_scale='Viridis',\n",
        "    opacity=0.6,\n",
        "    hover_name='composition',  # Show chemical formula on hover\n",
        "    hover_data={'Component 1': ':.2f', 'Component 2': ':.2f', 'zT': ':.2f'},  # Additional hover data\n",
        "    labels={'zT': 'zT Value'}\n",
        ")\n",
        "\n",
        "fig.update_traces(marker=dict(size=10))  # Adjust the size value as needed\n",
        "\n",
        "fig.update_layout(\n",
        "    width=6*96,  # 6 inches converted to pixels\n",
        "    height=4*96  # 4 inches converted to pixels\n",
        ")\n",
        "\n",
        "# Show the interactive plot\n",
        "fig.show()"
      ],
      "metadata": {
        "id": "eWoPqku0hRz6"
      },
      "execution_count": null,
      "outputs": []
    },
    {
      "cell_type": "markdown",
      "source": [
        "Finally, let's see how a 3D projection looks."
      ],
      "metadata": {
        "id": "BZMzLjAuhYBT"
      }
    },
    {
      "cell_type": "code",
      "source": [
        "from mpl_toolkits.mplot3d import Axes3D\n",
        "\n",
        "# Perform PCA to reduce dimensionality to 3D\n",
        "pca = PCA(n_components=3)\n",
        "reduced_data = pca.fit_transform(X_standardised)\n",
        "\n",
        "# Create a 3D plot for visualisation\n",
        "fig = plt.figure(figsize=(6, 5))\n",
        "\n",
        "# Create a 3D plot\n",
        "ax = fig.add_subplot(111, projection='3d')\n",
        "color_map = df[\"zT\"].values\n",
        "scatter = ax.scatter(reduced_data[:, 0], reduced_data[:, 1], reduced_data[:, 2], c=color_map, cmap='viridis', alpha=0.5)\n",
        "\n",
        "# Add labels and title\n",
        "ax.set_xlabel(\"Component 1\")\n",
        "ax.set_ylabel(\"Component 2\")\n",
        "ax.set_zlabel(\"Component 3\")\n",
        "ax.set_title(\"3D PCA of Magpie Features\")\n",
        "\n",
        "# Show the plot\n",
        "plt.show()"
      ],
      "metadata": {
        "id": "nh5upIjUharm"
      },
      "execution_count": null,
      "outputs": []
    },
    {
      "cell_type": "markdown",
      "source": [
        "<details>\n",
        "<summary> Code hint </summary>\n",
        "You can change the featurisation scheme to see the impact on the resulting visualisation and distribution of compositions\n",
        "</details>"
      ],
      "metadata": {
        "id": "cEfKF8UuhfBW"
      }
    },
    {
      "cell_type": "markdown",
      "source": [
        "### ✅ Summary\n",
        "\n",
        "In this session, we used machine learning to predict two materials properties:\n",
        "- **Bulk modulus**, using a small, interpretable feature set\n",
        "- **Thermoelectric properties**, using a large, high-dimensional descriptor set\n",
        "\n",
        "Along the way, we encountered some of the core challenges in materials ML:\n",
        "- **Limited data** and the risk of overfitting\n",
        "- **Complex descriptors** that make interpretation difficult\n",
        "- The need for **physically meaningful models**\n",
        "\n",
        "These are active areas of research, and we hope this gives you a flavour of how AI and materials science intersect."
      ],
      "metadata": {
        "id": "AtxQ8WFrhme7"
      }
    },
    {
      "cell_type": "code",
      "source": [],
      "metadata": {
        "id": "VRG8IjDZhnx0"
      },
      "execution_count": null,
      "outputs": []
    }
  ]
}