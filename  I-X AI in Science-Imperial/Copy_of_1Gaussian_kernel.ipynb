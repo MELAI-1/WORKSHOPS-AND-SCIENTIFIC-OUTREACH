{
  "nbformat": 4,
  "nbformat_minor": 0,
  "metadata": {
    "colab": {
      "provenance": [],
      "include_colab_link": true
    },
    "kernelspec": {
      "name": "python3",
      "display_name": "Python 3"
    },
    "language_info": {
      "name": "python"
    }
  },
  "cells": [
    {
      "cell_type": "markdown",
      "metadata": {
        "id": "view-in-github",
        "colab_type": "text"
      },
      "source": [
        "<a href=\"https://colab.research.google.com/github/MELAI-1/WORKSHOPS-AND-SCIENTIFIC-OUTREACH/blob/main/%20I-X%20AI%20in%20Science-Imperial/Copy_of_1Gaussian_kernel.ipynb\" target=\"_parent\"><img src=\"https://colab.research.google.com/assets/colab-badge.svg\" alt=\"Open In Colab\"/></a>"
      ]
    },
    {
      "cell_type": "markdown",
      "source": [
        "# Example 1: when is the Gaussian kernel positive definite?\n",
        "\n",
        "This problem is related to the article Gabriel Leander Wagner vom Berg; Vera Röhr; Daniel Platt; Benjamin Blankertz: \"A New Canonical Log-Euclidean Kernel for Symmetric Positive Definite Matrices for EEG Analysis\".\n",
        "\n",
        "Here is code that chooses three points `p=[p1,p2,p3]` in R^2 and computes their Gaussian kernel matrix, and verifies that it is positive definite by computing its eigenvalues and checking that they are positive."
      ],
      "metadata": {
        "id": "nlK3KvaPzYfb"
      }
    },
    {
      "cell_type": "code",
      "source": [
        "import numpy as np\n",
        "np.random.seed(0)"
      ],
      "metadata": {
        "id": "R93g-Whx0v3G"
      },
      "execution_count": null,
      "outputs": []
    },
    {
      "cell_type": "code",
      "source": [
        "points = [[0,0], [1,0], [2,3]]\n",
        "lambd = 1\n",
        "\n",
        "def gaussian_matrix(distances, lambd):\n",
        "    n = len(distances)\n",
        "    result = np.zeros((n, n))\n",
        "    for i in range(n):\n",
        "        for j in range(n):\n",
        "            result[i, j] = np.exp(-lambd * distances[i, j]**2)\n",
        "    return result\n",
        "\n",
        "n_points = len(points)\n",
        "distances = np.zeros((n_points, n_points))\n",
        "for i in range(n_points):\n",
        "  for j in range(i, n_points):\n",
        "    distances[i, j] = np.linalg.norm(np.array(points[i]) - np.array(points[j]))\n",
        "    distances[j, i] = distances[i, j]\n",
        "\n",
        "print(gaussian_matrix(distances, lambd))\n",
        "print(np.linalg.eigvals(gaussian_matrix(distances, lambd)))"
      ],
      "metadata": {
        "colab": {
          "base_uri": "https://localhost:8080/"
        },
        "id": "eeVFlVcx0H19",
        "outputId": "2f9342a9-2505-40ba-f5de-f1f235d4f87d"
      },
      "execution_count": null,
      "outputs": [
        {
          "output_type": "stream",
          "name": "stdout",
          "text": [
            "[[1.         0.36787944 0.02717246]\n",
            " [0.36787944 1.         0.04232922]\n",
            " [0.02717246 0.04232922 1.        ]]\n",
            "[1.37433421 0.63180579 0.99386   ]\n"
          ]
        }
      ]
    },
    {
      "cell_type": "markdown",
      "source": [
        "Solve the following exercises:\n",
        "\n",
        "\n",
        "1.   Define the numbers `n=2`, `k=3` in the first lines of your code and write code that randomly samples (unit normal) $k$ points in $\\mathbb{R}^n$, computes their Gaussian kernel matrix, and checks that it is positive definite. (Your code must continue to work, even if one changes the values for `n` and `k`.)"
      ],
      "metadata": {
        "id": "9uRq02FO1rWZ"
      }
    },
    {
      "cell_type": "code",
      "source": [
        "n=2\n",
        "k=3\n",
        "lambd=1\n",
        "\n",
        "points = np.zeros((k, n)) # randomly sample points here\n",
        "distances = np.zeros((k, k)) # compute distances here\n",
        "\n",
        "gaussmatrix = gaussian_matrix(distances, lambd)\n",
        "eigenvals = np.linalg.eigvals(gaussian_matrix(distances, lambd))\n",
        "assert np.all(eigenvals > 0)"
      ],
      "metadata": {
        "id": "swD4muBf1rbm"
      },
      "execution_count": null,
      "outputs": []
    },
    {
      "cell_type": "markdown",
      "source": [
        "2.   In the previous part, you sampled points in $\\mathbb{R}^n$ and computed their Euclidean distance. Now, sample points in $S^1=[0,1]/\\sim$ and compute their distance in $S^1$. Uniformly randomly sample points in $S^1$ until you find an example for `lambd=1` where the Gaussian kernel matrix is not positive definite."
      ],
      "metadata": {
        "id": "htMXEz0tb9h_"
      }
    },
    {
      "cell_type": "code",
      "source": [
        "k=3 # a number k to be found by you\n",
        "lambd=1\n",
        "\n",
        "points = np.zeros((k, 1)) # a list of points to be found by you (in the beginning you may want to randomly sample)\n",
        "\n",
        "def circle_distance(x, y):\n",
        "  pass\n",
        "\n",
        "distances = np.zeros((k, k)) # compute distances here\n",
        "\n",
        "gaussmatrix = gaussian_matrix(distances, lambd)\n",
        "eigenvals = np.linalg.eigvals(gaussian_matrix(distances, lambd))\n",
        "assert not np.all(eigenvals > 0)"
      ],
      "metadata": {
        "id": "A2XSJbdh2hKr"
      },
      "execution_count": null,
      "outputs": []
    },
    {
      "cell_type": "markdown",
      "source": [
        "3.   The kernel from the first exercise is positive definite for all values of `lambd`. The kernel from the second exercise is never positive definite. We want to define more complicated spaces, where the kernel may be positive definite for some `lambd`, and not positive definite for others. Piecewise linear spaces have a chance of satisfying this. Conduct an experiment on the following \"folded plane\", which is the simplest example of a piecewise linear space that is not a plane:\n",
        "$\\{(x,y,z):(z=0 \\text{ and } x \\leq 0) \\text{ or } (z=x \\text{ and } x \\geq 0) \\}$, picture below.\n",
        "Encode points on it by their $(x,y)$ values and implement a custom function `folded_plane_distance(p1, p2)` that, for two points with given $x,y$ coordinates, computes their distance on this \"folded plane\". That is: *not* the distance in three-dimensional space, but the distance when travelling from one point to the other on the folded plane.\n",
        "Note: this space is known to be positive definite for all values of `lambd`, but it is not known whether this is the same more complicated piecewise linear spaces.\n",
        "\n",
        "Then, as before randomly sample points and compute their Gaussian kernel matrix and assert that it is positive definite.\n",
        "\n",
        "![Split plane](https://drive.google.com/uc?export=view&id=1k6_9lwVktVBWQs6ozcYXhOFpxPjJaAzy)"
      ],
      "metadata": {
        "id": "RNbQGAfcb_uL"
      }
    },
    {
      "cell_type": "code",
      "source": [
        "k=3\n",
        "lambd=1\n",
        "\n",
        "points = np.zeros((k, 2)) # randomly sample points here\n",
        "\n",
        "def folded_plane_distance(p1, p2):\n",
        "  pass\n",
        "\n",
        "distances = np.zeros((k, k)) # compute distances here\n",
        "\n",
        "gaussmatrix = gaussian_matrix(distances, lambd)\n",
        "eigenvals = np.linalg.eigvals(gaussian_matrix(distances, lambd))\n",
        "assert np.all(eigenvals > 0)"
      ],
      "metadata": {
        "id": "gW1KBUKi3LBs"
      },
      "execution_count": null,
      "outputs": []
    },
    {
      "cell_type": "markdown",
      "source": [
        "4.   Here is a more complicated piecewise linear space: the back of the cube, i.e. the union of `[0,1]×[0,1]×{0}` and `[0,1]×{0}×[0,1]` and `{0}×[0,1]×[0,1]`. Implement a custom function `cube_back_distance(p1, p2)` that, for two points with given `x,y,z` coordinates computes their distance on this cube. That is: *not* the distance in three-dimensional space, but the distance when travelling from one point to the other on the back of the cube. Find values for `lambd`, and points on this space so that the resulting gaussian kernel matrix is *not* positive definite.\n",
        "\n",
        "![Cube back](https://drive.google.com/uc?export=view&id=1V481OEsHE_43XclGDWh3tdw_MVEitq8H)"
      ],
      "metadata": {
        "id": "UNEYZXADcBf5"
      }
    },
    {
      "cell_type": "code",
      "source": [
        "k=3 # a number k to be found by you\n",
        "lambd=1 # a lambda to be found by you\n",
        "\n",
        "points = np.zeros((k, 3)) # a list of points to be found by you (in the beginning you may want to randomly sample)\n",
        "\n",
        "def cube_back_distance(p1, p2):\n",
        "  pass\n",
        "\n",
        "distances = np.zeros((k, k)) # compute distances here\n",
        "\n",
        "gaussmatrix = gaussian_matrix(distances, lambd)\n",
        "eigenvals = np.linalg.eigvals(gaussian_matrix(distances, lambd))\n",
        "assert not np.all(eigenvals > 0)"
      ],
      "metadata": {
        "id": "pTmyTzMG4CLW"
      },
      "execution_count": null,
      "outputs": []
    },
    {
      "cell_type": "markdown",
      "source": [
        "5\\*. Prove or disprove the following: for all `lambd` the Gaussian kernel on this space is not positive definite."
      ],
      "metadata": {
        "id": "ctDucTdYcDLa"
      }
    },
    {
      "cell_type": "markdown",
      "source": [
        "6*. Is there another space on which the Gaussian kernel matrix is positive definite for some choices of `lambd` but not for others? (I don't know the answer to this.)"
      ],
      "metadata": {
        "id": "j9truKs2qL6c"
      }
    }
  ]
}